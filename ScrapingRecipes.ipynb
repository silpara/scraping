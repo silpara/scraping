{
 "cells": [
  {
   "cell_type": "markdown",
   "metadata": {},
   "source": [
    "# Scraping Recipes"
   ]
  },
  {
   "cell_type": "code",
   "execution_count": 1,
   "metadata": {},
   "outputs": [],
   "source": [
    "import urllib.request as urllib2\n",
    "from bs4 import BeautifulSoup"
   ]
  },
  {
   "cell_type": "code",
   "execution_count": 2,
   "metadata": {},
   "outputs": [],
   "source": [
    "#specify the url\n",
    "page_url = 'https://recipes.timesofindia.com/recipes/som-tam/rs69128264.cms'\n",
    "\n",
    "#query the website and return the html to the variable page\n",
    "page = urllib2.urlopen(page_url)\n",
    "\n",
    "#parse the html using beautiful soup and store in the variable soup\n",
    "soup = BeautifulSoup(page, 'html.parser')"
   ]
  },
  {
   "cell_type": "code",
   "execution_count": 3,
   "metadata": {},
   "outputs": [
    {
     "name": "stdout",
     "output_type": "stream",
     "text": [
      "['Times Food', 'Recipes', 'Som Tam']\n"
     ]
    }
   ],
   "source": [
    "# take out the <div>s and get its value\n",
    "breadcrumbs_div = soup.find('div', attrs={'class':'breadcrumb clearfix'})\n",
    "breadcrumbs = [i.text for b in breadcrumbs_div.find_all('ul') for i in b.find_all('li')]\n",
    "print(breadcrumbs)"
   ]
  },
  {
   "cell_type": "code",
   "execution_count": 4,
   "metadata": {},
   "outputs": [
    {
     "name": "stdout",
     "output_type": "stream",
     "text": [
      "20 gm  green papaya50 gm  green beans3 cloves  garlic4  cherry tomatoes30 gm  carrot20 gm  roasted peanuts2  red chilliFor Dressing2 tablespoon  Thai soy sauce3 tablespoon  lime juice2 tablespoon  palm sugar\n",
      "\n",
      "['20 gm  green papaya', '50 gm  green beans', '3 cloves  garlic', '4  cherry tomatoes', '30 gm  carrot', '20 gm  roasted peanuts', '2  red chilli', '2 tablespoon  Thai soy sauce', '3 tablespoon  lime juice', '2 tablespoon  palm sugar']\n"
     ]
    }
   ],
   "source": [
    "#take out the <div> of ingredients and get its value\n",
    "ingredients_div = soup.find('div', attrs={'class': 'recipetabsdata ingredients_lilsting clearfix', 'id': 'ingredata'})\n",
    "print(ingredients_div.text, end=\"\\n\\n\")\n",
    "\n",
    "ingredients = [i.text for b in ingredients_div.find_all('ul') for i in b.find_all('li')]\n",
    "print(ingredients)"
   ]
  },
  {
   "cell_type": "code",
   "execution_count": null,
   "metadata": {},
   "outputs": [],
   "source": []
  },
  {
   "cell_type": "code",
   "execution_count": 5,
   "metadata": {},
   "outputs": [],
   "source": [
    "recipes_page = 'https://recipes.timesofindia.com/recipes'\n",
    "\n",
    "page = urllib2.urlopen(recipes_page)\n",
    "breadcrumbs_div = soup.find('aside', attrs={'class':'left_mid'})"
   ]
  },
  {
   "cell_type": "code",
   "execution_count": 6,
   "metadata": {},
   "outputs": [],
   "source": [
    "# breadcrumbs_div.find_all('div')"
   ]
  },
  {
   "cell_type": "code",
   "execution_count": null,
   "metadata": {},
   "outputs": [],
   "source": []
  }
 ],
 "metadata": {
  "kernelspec": {
   "display_name": "Python 3",
   "language": "python",
   "name": "python3"
  },
  "language_info": {
   "codemirror_mode": {
    "name": "ipython",
    "version": 3
   },
   "file_extension": ".py",
   "mimetype": "text/x-python",
   "name": "python",
   "nbconvert_exporter": "python",
   "pygments_lexer": "ipython3",
   "version": "3.7.7"
  }
 },
 "nbformat": 4,
 "nbformat_minor": 4
}
